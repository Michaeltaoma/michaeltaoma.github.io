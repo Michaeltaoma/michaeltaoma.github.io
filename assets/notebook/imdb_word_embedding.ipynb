{
  "nbformat": 4,
  "nbformat_minor": 0,
  "metadata": {
    "colab": {
      "name": "imdb_word_embedding.ipynb",
      "provenance": [],
      "collapsed_sections": []
    },
    "kernelspec": {
      "name": "python3",
      "display_name": "Python 3"
    }
  },
  "cells": [
    {
      "cell_type": "markdown",
      "metadata": {
        "id": "CUGhskglNyvk",
        "colab_type": "text"
      },
      "source": [
        "- Word Embedding:\n",
        "  - Turns word into a vector in dimensional space to represent its semantic\n",
        "  - Words were mapped to vectors in higher dimensional space, and the semantics of the words then learned when those words were labelled with similar meaning.\n",
        "\n",
        "- IMDB dataset\n",
        "- IMDB subword dataset\n",
        "  - 用subword的结果会比普通的差，这一点主要是因为他的subword都是一些比如会把Michael分成mi和cha和el，这样子的subword说实话意义并没有很大。有意义的单词，由subword组成，这就导致了如果一个单词是[3, 1, 2]，在process到后面的2的时候，整体的语义是基于前面的3和1的，也就是说，我们的神经网络需要有记忆\n",
        "- 如何利用io去写入文件\n",
        "- 利用<a href=\"https://projector.tensorflow.org/\">projector.tensorflow</a>去可视化embedding的结果"
      ]
    },
    {
      "cell_type": "code",
      "metadata": {
        "id": "GgaliH-VMK_f",
        "colab_type": "code",
        "colab": {}
      },
      "source": [
        "import tensorflow as tf\n",
        "import tensorflow.keras as keras\n",
        "from tensorflow.keras.preprocessing.text import Tokenizer\n",
        "import tensorflow.keras.datasets.imdb as imdb_dataset\n",
        "from tensorflow.keras.preprocessing.sequence import pad_sequences\n",
        "import tensorflow_datasets as tfds\n",
        "import numpy as np\n",
        "import matplotlib.pyplot as plt\n",
        "%matplotlib inline"
      ],
      "execution_count": 112,
      "outputs": []
    },
    {
      "cell_type": "code",
      "metadata": {
        "id": "_LgcjdVqOAo2",
        "colab_type": "code",
        "colab": {}
      },
      "source": [
        "# 另一种load data的方式\n",
        "# (x_train,y_train),(x_test,y_test)=imdb_dataset.load_data()"
      ],
      "execution_count": 113,
      "outputs": []
    },
    {
      "cell_type": "code",
      "metadata": {
        "id": "6mLgQX3deEQ4",
        "colab_type": "code",
        "colab": {}
      },
      "source": [
        "def to_fit(str1):\n",
        "  fit_str = [str1]\n",
        "  predict_str = tokenizer.texts_to_sequences(fit_str)\n",
        "  return predict_str"
      ],
      "execution_count": 114,
      "outputs": []
    },
    {
      "cell_type": "code",
      "metadata": {
        "id": "lyqQLHBmQ9x4",
        "colab_type": "code",
        "colab": {}
      },
      "source": [
        "imdb, info = tfds.load(\"imdb_reviews\", with_info=True, as_supervised=True)"
      ],
      "execution_count": 115,
      "outputs": []
    },
    {
      "cell_type": "code",
      "metadata": {
        "id": "elDaqWKpRhtU",
        "colab_type": "code",
        "colab": {}
      },
      "source": [
        "train_data, test_data = imdb[\"train\"], imdb[\"test\"]"
      ],
      "execution_count": 116,
      "outputs": []
    },
    {
      "cell_type": "code",
      "metadata": {
        "id": "YayNp0qcRqEv",
        "colab_type": "code",
        "colab": {}
      },
      "source": [
        "training_sentences = []\n",
        "training_labels = []\n",
        "\n",
        "testing_sentences = []\n",
        "testing_labels = []\n",
        "\n",
        "for s,l in train_data:\n",
        "  training_sentences.append(str(s.numpy()))\n",
        "  training_labels.append(l.numpy())\n",
        "\n",
        "for s,l in test_data:\n",
        "  testing_sentences.append(str(s.numpy()))\n",
        "  testing_labels.append(l.numpy())\n"
      ],
      "execution_count": null,
      "outputs": []
    },
    {
      "cell_type": "code",
      "metadata": {
        "id": "i4Ru8QCxbC2l",
        "colab_type": "code",
        "colab": {
          "base_uri": "https://localhost:8080/",
          "height": 102
        },
        "outputId": "6665e861-9569-4b85-bfbd-100041f82cfa"
      },
      "source": [
        "vocab_size=10000\n",
        "embedding_dim=16\n",
        "max_length = 120\n",
        "oov_tok=\"<OOV>\"\n",
        "\n",
        "tokenizer = Tokenizer(num_words=vocab_size, oov_token=oov_tok)\n",
        "\n",
        "tokenizer.fit_on_texts(training_sentences)\n",
        "word_index = tokenizer.word_index\n",
        "print(\"There are \", len(tokenizer.word_index), \" words in the dataset\\n\")\n",
        "sequences = tokenizer.texts_to_sequences(training_sentences)\n",
        "print(\"There are \", len(sequences), \" lines in the sequences\\n\")\n",
        "pad_post = pad_sequences(sequences=sequences, maxlen=max_length, padding=\"post\", truncating=\"post\")\n",
        "print(\"Padded sequence\", pad_post.shape)\n",
        "\n",
        "test_sequence = tokenizer.texts_to_sequences(testing_sentences)\n",
        "test_pad_post = pad_sequences(sequences=test_sequence, maxlen=max_length, padding=\"post\", truncating=\"post\")\n"
      ],
      "execution_count": null,
      "outputs": [
        {
          "output_type": "stream",
          "text": [
            "There are  86539  words in the dataset\n",
            "\n",
            "There are  25000  lines in the sequences\n",
            "\n",
            "Padded sequence (25000, 120)\n"
          ],
          "name": "stdout"
        }
      ]
    },
    {
      "cell_type": "code",
      "metadata": {
        "id": "824QDD18fBy8",
        "colab_type": "code",
        "colab": {}
      },
      "source": [
        "# https://stats.stackexchange.com/questions/270546/how-does-keras-embedding-layer-work 这里讲了word_embedding背后的逻辑\n",
        "model = keras.models.Sequential([\n",
        "    keras.layers.Embedding(input_dim=vocab_size, output_dim=embedding_dim,\n",
        "                           input_length=max_length),\n",
        "    # keras.layers.GlobalAveragePooling1D(),\n",
        "    keras.layers.Flatten(),\n",
        "    keras.layers.Dense(units=6, activation=tf.nn.relu),\n",
        "    keras.layers.Dense(units=12, activation=tf.nn.relu),\n",
        "    keras.layers.Dense(units=1, activation=tf.nn.sigmoid)\n",
        "])\n",
        "\n",
        "model.compile(optimizer=\"Adam\",\n",
        "              loss=\"binary_crossentropy\",\n",
        "              metrics=[\"accuracy\"])"
      ],
      "execution_count": null,
      "outputs": []
    },
    {
      "cell_type": "code",
      "metadata": {
        "id": "Pg2N3hqIhdSj",
        "colab_type": "code",
        "colab": {
          "base_uri": "https://localhost:8080/",
          "height": 323
        },
        "outputId": "6a2acc7e-0908-40d1-e12d-e2ff062ab5d5"
      },
      "source": [
        "model.summary()"
      ],
      "execution_count": null,
      "outputs": [
        {
          "output_type": "stream",
          "text": [
            "Model: \"sequential_7\"\n",
            "_________________________________________________________________\n",
            "Layer (type)                 Output Shape              Param #   \n",
            "=================================================================\n",
            "embedding_7 (Embedding)      (None, 120, 16)           160000    \n",
            "_________________________________________________________________\n",
            "flatten_7 (Flatten)          (None, 1920)              0         \n",
            "_________________________________________________________________\n",
            "dense_16 (Dense)             (None, 6)                 11526     \n",
            "_________________________________________________________________\n",
            "dense_17 (Dense)             (None, 12)                84        \n",
            "_________________________________________________________________\n",
            "dense_18 (Dense)             (None, 1)                 13        \n",
            "=================================================================\n",
            "Total params: 171,623\n",
            "Trainable params: 171,623\n",
            "Non-trainable params: 0\n",
            "_________________________________________________________________\n"
          ],
          "name": "stdout"
        }
      ]
    },
    {
      "cell_type": "code",
      "metadata": {
        "id": "q1-NCgbIhiT0",
        "colab_type": "code",
        "colab": {
          "base_uri": "https://localhost:8080/",
          "height": 357
        },
        "outputId": "fc571461-2ffa-4c4f-e0c9-e3f86968eb4f"
      },
      "source": [
        "history = model.fit(pad_post, np.array(training_labels), validation_split=0.33, epochs=10)"
      ],
      "execution_count": null,
      "outputs": [
        {
          "output_type": "stream",
          "text": [
            "Epoch 1/10\n",
            "524/524 [==============================] - 4s 7ms/step - loss: 0.5580 - accuracy: 0.6817 - val_loss: 0.4194 - val_accuracy: 0.8142\n",
            "Epoch 2/10\n",
            "524/524 [==============================] - 3s 5ms/step - loss: 0.2362 - accuracy: 0.9094 - val_loss: 0.4251 - val_accuracy: 0.8178\n",
            "Epoch 3/10\n",
            "524/524 [==============================] - 3s 5ms/step - loss: 0.0573 - accuracy: 0.9868 - val_loss: 0.5363 - val_accuracy: 0.8118\n",
            "Epoch 4/10\n",
            "524/524 [==============================] - 3s 5ms/step - loss: 0.0114 - accuracy: 0.9983 - val_loss: 0.6433 - val_accuracy: 0.8105\n",
            "Epoch 5/10\n",
            "524/524 [==============================] - 3s 5ms/step - loss: 0.0024 - accuracy: 0.9998 - val_loss: 0.7027 - val_accuracy: 0.8136\n",
            "Epoch 6/10\n",
            "524/524 [==============================] - 3s 5ms/step - loss: 7.2834e-04 - accuracy: 1.0000 - val_loss: 0.7501 - val_accuracy: 0.8137\n",
            "Epoch 7/10\n",
            "524/524 [==============================] - 3s 5ms/step - loss: 3.6667e-04 - accuracy: 1.0000 - val_loss: 0.7874 - val_accuracy: 0.8138\n",
            "Epoch 8/10\n",
            "524/524 [==============================] - 3s 6ms/step - loss: 2.1776e-04 - accuracy: 1.0000 - val_loss: 0.8238 - val_accuracy: 0.8130\n",
            "Epoch 9/10\n",
            "524/524 [==============================] - 3s 5ms/step - loss: 1.4179e-04 - accuracy: 1.0000 - val_loss: 0.8520 - val_accuracy: 0.8142\n",
            "Epoch 10/10\n",
            "524/524 [==============================] - 3s 5ms/step - loss: 9.5246e-05 - accuracy: 1.0000 - val_loss: 0.8824 - val_accuracy: 0.8144\n"
          ],
          "name": "stdout"
        }
      ]
    },
    {
      "cell_type": "code",
      "metadata": {
        "id": "sXfUVCWIlelx",
        "colab_type": "code",
        "colab": {
          "base_uri": "https://localhost:8080/",
          "height": 315
        },
        "outputId": "1bbee0f4-9e63-4a2c-c2cc-97c2dda93491"
      },
      "source": [
        "acc = history.history[\"accuracy\"]\n",
        "val_acc = history.history[\"val_accuracy\"]\n",
        "loss = history.history[\"loss\"]\n",
        "val_loss = history.history[\"val_loss\"]\n",
        "\n",
        "epochs = range(len(acc))\n",
        "\n",
        "plt.plot(epochs, acc, \"r\", label=\"Training accuracy\")\n",
        "plt.plot(epochs, val_acc, \"b\", label=\"Validation accuracy\")\n",
        "plt.title(\"Training and validation accuracy\")\n",
        "plt.figure()"
      ],
      "execution_count": null,
      "outputs": [
        {
          "output_type": "execute_result",
          "data": {
            "text/plain": [
              "<Figure size 432x288 with 0 Axes>"
            ]
          },
          "metadata": {
            "tags": []
          },
          "execution_count": 101
        },
        {
          "output_type": "display_data",
          "data": {
            "image/png": "[encoded data removed]",
            "text/plain": [
              "<Figure size 432x288 with 1 Axes>"
            ]
          },
          "metadata": {
            "tags": [],
            "needs_background": "light"
          }
        },
        {
          "output_type": "display_data",
          "data": {
            "text/plain": [
              "<Figure size 432x288 with 0 Axes>"
            ]
          },
          "metadata": {
            "tags": []
          }
        }
      ]
    },
    {
      "cell_type": "code",
      "metadata": {
        "id": "-JnMgVfWoItC",
        "colab_type": "code",
        "colab": {
          "base_uri": "https://localhost:8080/",
          "height": 34
        },
        "outputId": "dc76103b-2065-4870-b94e-34be10b9fbe6"
      },
      "source": [
        "# 可视化embedding的结果\n",
        "\n",
        "e = model.layers[0]\n",
        "weights = e.get_weights()[0]\n",
        "print(\"Dimension for weights: \", weights.shape)\n",
        "\n",
        "## reverse word_index\n",
        "reverse_word_index = dict([(value, key) for (key, value) in word_index.items()])\n"
      ],
      "execution_count": null,
      "outputs": [
        {
          "output_type": "stream",
          "text": [
            "Dimension for weights:  (10000, 16)\n"
          ],
          "name": "stdout"
        }
      ]
    },
    {
      "cell_type": "code",
      "metadata": {
        "id": "g9Ilb806oavo",
        "colab_type": "code",
        "colab": {}
      },
      "source": [
        "# 把数据写入文件\n",
        "import io\n",
        "\n",
        "out_v = io.open(\"/tmp/vecs.tsv\", \"w\", encoding=\"utf-8\")\n",
        "out_m = io.open(\"/tmp/meta.tsv\", \"w\", encoding=\"utf-8\")\n",
        "\n",
        "for word_num in range(1, vocab_size):\n",
        "  ## 所以刚刚reverse的原因在于现在可以轻松点把它提取出来\n",
        "  word = reverse_word_index[word_num]\n",
        "  embedding = weights[word_num]\n",
        "  out_m.write(word+\"\\n\")\n",
        "  out_v.write(\"\\t\".join([str(x) for x in embedding]) + \"\\n\")\n",
        "out_m.close()\n",
        "out_v.close()"
      ],
      "execution_count": null,
      "outputs": []
    },
    {
      "cell_type": "code",
      "metadata": {
        "id": "GdS2_P39qWNJ",
        "colab_type": "code",
        "colab": {}
      },
      "source": [
        "# 下载文件\n",
        "try:\n",
        "  from gooogle.colab import files\n",
        "except ImportError:\n",
        "  pass\n",
        "else:\n",
        "  files.download(\"/tmp/vecs.tsv\")\n",
        "  files.download(\"/tmp/mata.tsv\")"
      ],
      "execution_count": null,
      "outputs": []
    }
  ]
}